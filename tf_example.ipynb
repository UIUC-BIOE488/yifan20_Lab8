{
 "cells": [
  {
   "cell_type": "code",
   "execution_count": null,
   "id": "e32f23ae-47a9-434d-ac50-76562550f90f",
   "metadata": {},
   "outputs": [],
   "source": [
    "import os\n",
    "import tensorflow as tf\n",
    "import logging\n",
    "tf.get_logger().setLevel(logging.ERROR)\n",
    "print(\"TensorFlow version:\", tf.__version__)"
   ]
  },
  {
   "cell_type": "code",
   "execution_count": null,
   "id": "d9866c4c-f37c-4ce2-9bb3-484acb8feb8e",
   "metadata": {},
   "outputs": [],
   "source": [
    "import tensorflow as tf\n",
    "device_name = tf.test.gpu_device_name()\n",
    "if device_name != '/device:GPU:0':\n",
    "  raise SystemError('GPU device not found')\n",
    "print('Found GPU at: {}'.format(device_name))"
   ]
  },
  {
   "cell_type": "code",
   "execution_count": null,
   "id": "e2c8f510-5d95-43fd-a391-68d6cc08be44",
   "metadata": {},
   "outputs": [],
   "source": [
    "import tensorflow as tf\n",
    "import timeit\n",
    "\n",
    "device_name = tf.test.gpu_device_name()\n",
    "if device_name != '/device:GPU:0':\n",
    "  print(\n",
    "      '\\n\\nThis error most likely means that this notebook is not '\n",
    "      'configured to use a GPU.  Change this in Notebook Settings via the '\n",
    "      'command palette (cmd/ctrl-shift-P) or the Edit menu.\\n\\n')\n",
    "  raise SystemError('GPU device not found')\n",
    "\n",
    "def cpu():\n",
    "  with tf.device('/cpu:0'):\n",
    "    random_image_cpu = tf.random.normal((100, 100, 100, 3))\n",
    "    net_cpu = tf.keras.layers.Conv2D(32, 7)(random_image_cpu)\n",
    "    return tf.math.reduce_sum(net_cpu)\n",
    "\n",
    "def gpu():\n",
    "  with tf.device('/device:GPU:0'):\n",
    "    random_image_gpu = tf.random.normal((100, 100, 100, 3))\n",
    "    net_gpu = tf.keras.layers.Conv2D(32, 7)(random_image_gpu)\n",
    "    return tf.math.reduce_sum(net_gpu)\n",
    "\n",
    "# We run each op once to warm up; see: https://stackoverflow.com/a/45067900\n",
    "cpu()\n",
    "gpu()\n",
    "\n",
    "# Run the op several times.\n",
    "print('Time (s) to convolve 32x7x7x3 filter over random 100x100x100x3 images '\n",
    "      '(batch x height x width x channel). Sum of ten runs.')\n",
    "print('CPU (s):')\n",
    "cpu_time = timeit.timeit('cpu()', number=20, setup=\"from __main__ import cpu\")\n",
    "print(cpu_time)\n",
    "print('GPU (s):')\n",
    "gpu_time = timeit.timeit('gpu()', number=20, setup=\"from __main__ import gpu\")\n",
    "print(gpu_time)\n",
    "print('GPU speedup over CPU: {}x'.format(int(cpu_time/gpu_time)))"
   ]
  },
  {
   "cell_type": "code",
   "execution_count": null,
   "id": "5eaea9cf-5e5a-4040-afec-4f5c7d272095",
   "metadata": {},
   "outputs": [],
   "source": []
  },
  {
   "cell_type": "code",
   "execution_count": null,
   "id": "816ae0af-b4d1-4485-8939-01373079b417",
   "metadata": {},
   "outputs": [],
   "source": [
    "import tensorflow as tf\n",
    "\n",
    "from tensorflow import keras\n",
    "import keras\n",
    "\n",
    "print(tf.__version__)"
   ]
  },
  {
   "cell_type": "code",
   "execution_count": null,
   "id": "9187a468-4d97-488b-9a87-d0685bf51153",
   "metadata": {},
   "outputs": [],
   "source": [
    "import matplotlib.pyplot as plt\n",
    "import numpy as np\n",
    "import pandas as pd\n",
    "import seaborn as sns\n"
   ]
  },
  {
   "cell_type": "code",
   "execution_count": null,
   "id": "6791abb3-6091-46c4-98bd-6a5ea45325d2",
   "metadata": {},
   "outputs": [],
   "source": [
    "url = 'http://archive.ics.uci.edu/ml/machine-learning-databases/auto-mpg/auto-mpg.data'\n",
    "column_names = ['MPG', 'Cylinders', 'Displacement', 'Horsepower', 'Weight','Acceleration', 'Model Year', 'Origin']\n",
    "\n",
    "raw_dataset = pd.read_csv(url, names=column_names,na_values='?', comment='\\t',sep=' ', skipinitialspace=True)"
   ]
  },
  {
   "cell_type": "code",
   "execution_count": null,
   "id": "b14b3e6c-7d8a-46ab-a28c-3bad6e843dc6",
   "metadata": {},
   "outputs": [],
   "source": [
    "raw_dataset"
   ]
  },
  {
   "cell_type": "code",
   "execution_count": null,
   "id": "85ec7eb4-82be-4d95-98ad-bdb4206bbc51",
   "metadata": {},
   "outputs": [],
   "source": [
    "\n",
    "dataset = raw_dataset.copy()\n",
    "dataset.tail()\n",
    "\n"
   ]
  },
  {
   "cell_type": "code",
   "execution_count": null,
   "id": "5bdf697e-2adb-42fa-ba93-52b812cb007d",
   "metadata": {},
   "outputs": [],
   "source": [
    "dataset.isna().sum()"
   ]
  },
  {
   "cell_type": "code",
   "execution_count": null,
   "id": "a2d8787b-6e52-43d9-b167-57e69f9cf165",
   "metadata": {},
   "outputs": [],
   "source": [
    "dataset = dataset.dropna()"
   ]
  },
  {
   "cell_type": "code",
   "execution_count": null,
   "id": "9e9b3655-72c7-494d-91da-818135926a79",
   "metadata": {},
   "outputs": [],
   "source": [
    "dataset['Origin'] = dataset['Origin'].map({1: 'USA', 2: 'Europe', 3: 'Japan'})\n"
   ]
  },
  {
   "cell_type": "code",
   "execution_count": null,
   "id": "93e8f5a9-f2cb-4f49-ade0-1b4d35e569f9",
   "metadata": {},
   "outputs": [],
   "source": [
    "dataset = pd.get_dummies(dataset, columns=['Origin'], prefix='', prefix_sep='')\n",
    "dataset.tail()"
   ]
  },
  {
   "cell_type": "code",
   "execution_count": null,
   "id": "84fd8380-e7d0-4faa-9bff-3904b59fd0f4",
   "metadata": {},
   "outputs": [],
   "source": [
    "train_dataset = dataset.sample(frac=0.8, random_state=0)\n",
    "test_dataset = dataset.drop(train_dataset.index)"
   ]
  },
  {
   "cell_type": "code",
   "execution_count": null,
   "id": "4af2141e-04f2-4bb8-b0f2-24577d574372",
   "metadata": {},
   "outputs": [],
   "source": [
    "sns.pairplot(train_dataset[['MPG', 'Cylinders', 'Displacement', 'Weight']], diag_kind='kde')\n"
   ]
  },
  {
   "cell_type": "code",
   "execution_count": null,
   "id": "189fc4d5-1bff-465b-ba1f-1db18390d279",
   "metadata": {},
   "outputs": [],
   "source": [
    "train_features = train_dataset.copy()\n",
    "test_features = test_dataset.copy()\n",
    "\n",
    "train_labels = train_features.pop('MPG')\n",
    "test_labels = test_features.pop('MPG')"
   ]
  },
  {
   "cell_type": "code",
   "execution_count": null,
   "id": "ee7f62bb-f1c4-43e6-a226-8430163b88c8",
   "metadata": {},
   "outputs": [],
   "source": [
    "train_dataset.describe().transpose()[['mean', 'std']]"
   ]
  },
  {
   "cell_type": "code",
   "execution_count": null,
   "id": "fd2abff4-8be1-41ac-90ab-0bfc3024d964",
   "metadata": {},
   "outputs": [],
   "source": [
    "normalizer = keras.layers.Normalization(axis=-1)\n"
   ]
  },
  {
   "cell_type": "code",
   "execution_count": null,
   "id": "7d894f1b-50a9-4a22-a359-2481c1be9e77",
   "metadata": {},
   "outputs": [],
   "source": [
    "normalizer.adapt(np.array(train_features))"
   ]
  },
  {
   "cell_type": "code",
   "execution_count": null,
   "id": "f4fd767b-37be-4ae6-9afc-7d4fad6e7a2a",
   "metadata": {},
   "outputs": [],
   "source": [
    "print(normalizer.mean.numpy())\n"
   ]
  },
  {
   "cell_type": "code",
   "execution_count": null,
   "id": "c177bccd-8f40-40bf-9d46-efa402590834",
   "metadata": {},
   "outputs": [],
   "source": [
    "first = np.array(train_features[:1])\n",
    "first = np.asarray(first).astype('float32')\n",
    "with tf.device('/cpu:0'):\n",
    "    with np.printoptions(precision=2, suppress=True):\n",
    "      print('First example:', first)\n",
    "      print()\n",
    "      print('Normalized:', normalizer(first).numpy())"
   ]
  },
  {
   "cell_type": "code",
   "execution_count": null,
   "id": "4a01a1ca-ffaa-4fc0-a114-1828220f5d51",
   "metadata": {},
   "outputs": [],
   "source": [
    "with tf.device('/cpu:0'):\n",
    "    horsepower = np.array(train_features['Horsepower'])\n",
    "    \n",
    "    horsepower_normalizer = keras.layers.Normalization(input_shape=[1,], axis=None)\n",
    "    horsepower_normalizer.adapt(horsepower)\n"
   ]
  },
  {
   "cell_type": "code",
   "execution_count": null,
   "id": "2c9dcf90-11c6-408d-8523-a460ff05b929",
   "metadata": {},
   "outputs": [],
   "source": [
    "with tf.device('/cpu:0'):\n",
    "\n",
    "    horsepower_model = keras.Sequential([\n",
    "        horsepower_normalizer,\n",
    "        keras.layers.Dense(units=1)\n",
    "    ])\n",
    "    \n",
    "    horsepower_model.summary()"
   ]
  },
  {
   "cell_type": "code",
   "execution_count": null,
   "id": "ad84cbb9-2b38-47e8-8cc2-84c65d7926a6",
   "metadata": {},
   "outputs": [],
   "source": [
    "with tf.device('/cpu:0'):\n",
    "    horsepower_model.predict(horsepower[:10])"
   ]
  },
  {
   "cell_type": "code",
   "execution_count": null,
   "id": "e5571b5b-8f5b-4a20-87ab-f9d3af4b4297",
   "metadata": {},
   "outputs": [],
   "source": [
    "with tf.device('/cpu:0'):\n",
    "    horsepower_model.compile(optimizer=tf.keras.optimizers.Adam(learning_rate=0.1),loss='mean_absolute_error')"
   ]
  },
  {
   "cell_type": "code",
   "execution_count": null,
   "id": "d52db9a1-9432-48b7-b36d-e26ad2a2f7a6",
   "metadata": {},
   "outputs": [],
   "source": [
    "with tf.device('/cpu:0'):\n",
    "    history = horsepower_model.fit(\n",
    "        train_features['Horsepower'],\n",
    "        train_labels,\n",
    "        epochs=100,\n",
    "        # Suppress logging.\n",
    "        verbose=0,\n",
    "        # Calculate validation results on 20% of the training data.\n",
    "        validation_split = 0.2)"
   ]
  },
  {
   "cell_type": "code",
   "execution_count": null,
   "id": "412dac31-c3a2-4b8f-8e62-699f036d6600",
   "metadata": {},
   "outputs": [],
   "source": [
    "hist = pd.DataFrame(history.history)\n",
    "hist['epoch'] = history.epoch\n",
    "hist.tail()"
   ]
  },
  {
   "cell_type": "code",
   "execution_count": null,
   "id": "6b79ee35-6f3a-4afa-a3de-dd3b280a92ff",
   "metadata": {},
   "outputs": [],
   "source": [
    "def plot_loss(history):\n",
    "  plt.plot(history.history['loss'], label='loss')\n",
    "  plt.plot(history.history['val_loss'], label='val_loss')\n",
    "  plt.ylim([0, 10])\n",
    "  plt.xlabel('Epoch')\n",
    "  plt.ylabel('Error [MPG]')\n",
    "  plt.legend()\n",
    "  plt.grid(True)"
   ]
  },
  {
   "cell_type": "code",
   "execution_count": null,
   "id": "9060ce55-9e15-4a17-8a1e-73dc0ec27661",
   "metadata": {},
   "outputs": [],
   "source": [
    "plot_loss(history)"
   ]
  },
  {
   "cell_type": "code",
   "execution_count": null,
   "id": "2479bf41-5b37-43e9-a3cc-43f986837634",
   "metadata": {},
   "outputs": [],
   "source": [
    "with tf.device('/cpu:0'):\n",
    "    test_results = {}\n",
    "    test_results['horsepower_model'] = horsepower_model.evaluate(test_features['Horsepower'],test_labels, verbose=0)"
   ]
  },
  {
   "cell_type": "code",
   "execution_count": null,
   "id": "7cd9c8b8-3640-43e6-a3d5-dbdc88c68dac",
   "metadata": {},
   "outputs": [],
   "source": [
    "with tf.device('/cpu:0'):\n",
    "    x = tf.linspace(0.0, 250, 251)\n",
    "    y = horsepower_model.predict(x)"
   ]
  },
  {
   "cell_type": "code",
   "execution_count": null,
   "id": "6ff27bec-d7df-49e8-ae91-e0b4eae41a9f",
   "metadata": {},
   "outputs": [],
   "source": [
    "def plot_horsepower(x, y):\n",
    "  plt.scatter(train_features['Horsepower'], train_labels, label='Data')\n",
    "  plt.plot(x, y, color='k', label='Predictions')\n",
    "  plt.xlabel('Horsepower')\n",
    "  plt.ylabel('MPG')\n",
    "  plt.legend()"
   ]
  },
  {
   "cell_type": "code",
   "execution_count": null,
   "id": "5d4d61c1-d7ed-4de4-a6f7-d6c016517b46",
   "metadata": {},
   "outputs": [],
   "source": [
    "plot_horsepower(x,y)"
   ]
  },
  {
   "cell_type": "code",
   "execution_count": null,
   "id": "74265080-b68d-4204-ab09-3ff386a94dcb",
   "metadata": {},
   "outputs": [],
   "source": [
    "## MULTIPLE"
   ]
  },
  {
   "cell_type": "code",
   "execution_count": null,
   "id": "5c3221c3-3c25-461b-9800-56959edaeb27",
   "metadata": {},
   "outputs": [],
   "source": [
    "with tf.device('/cpu:0'):\n",
    "    linear_model = keras.Sequential([normalizer,keras.layers.Dense(units=1)])\n",
    "    linear_model.predict(train_features[:10])"
   ]
  },
  {
   "cell_type": "code",
   "execution_count": null,
   "id": "b7aa44e1-241e-4a35-ac45-41936a9e1dca",
   "metadata": {},
   "outputs": [],
   "source": [
    "linear_model.layers[1].kernel"
   ]
  },
  {
   "cell_type": "code",
   "execution_count": null,
   "id": "b9bab187-5eb7-431f-b7ff-66fcb7213672",
   "metadata": {},
   "outputs": [],
   "source": [
    "with tf.device('/cpu:0'):\n",
    "    linear_model.compile(optimizer=keras.optimizers.Adam(learning_rate=0.1),loss='mean_absolute_error')\n",
    "    history = linear_model.fit(\n",
    "        train_features,\n",
    "        train_labels,\n",
    "        epochs=100,\n",
    "        # Suppress logging.\n",
    "        verbose=0,\n",
    "        # Calculate validation results on 20% of the training data.\n",
    "        validation_split = 0.2)"
   ]
  },
  {
   "cell_type": "code",
   "execution_count": null,
   "id": "500852ad-d15c-4c87-ac18-7487c9dd3862",
   "metadata": {},
   "outputs": [],
   "source": [
    "plot_loss(history)"
   ]
  },
  {
   "cell_type": "code",
   "execution_count": null,
   "id": "ac313140-1249-4bb4-ba52-2ded0d97ca19",
   "metadata": {},
   "outputs": [],
   "source": [
    "with tf.device('/cpu:0'):\n",
    "    test_results['linear_model'] = linear_model.evaluate(test_features, test_labels, verbose=0)"
   ]
  },
  {
   "cell_type": "code",
   "execution_count": null,
   "id": "d14d4127-eddd-413d-9594-048d76d0d238",
   "metadata": {},
   "outputs": [],
   "source": [
    "with tf.device('/cpu:0'):\n",
    "    def build_and_compile_model(norm):\n",
    "      model = keras.Sequential([\n",
    "          norm,\n",
    "          keras.layers.Dense(64, activation='relu'),\n",
    "          keras.layers.Dense(64, activation='relu'),\n",
    "          keras.layers.Dense(1)\n",
    "      ])\n",
    "    \n",
    "      model.compile(loss='mean_absolute_error',\n",
    "                    optimizer=keras.optimizers.Adam(0.001))\n",
    "      return model\n",
    "    dnn_horsepower_model = build_and_compile_model(horsepower_normalizer)"
   ]
  },
  {
   "cell_type": "code",
   "execution_count": null,
   "id": "9be8d7fb-251d-4bbe-892b-7f7b21ebf9ee",
   "metadata": {},
   "outputs": [],
   "source": [
    "dnn_horsepower_model.summary()"
   ]
  },
  {
   "cell_type": "code",
   "execution_count": null,
   "id": "de59ec8e-87c8-4a09-a973-5eea215f6144",
   "metadata": {},
   "outputs": [],
   "source": [
    "with tf.device('/cpu:0'):\n",
    "    history = dnn_horsepower_model.fit(\n",
    "        train_features['Horsepower'],\n",
    "        train_labels,\n",
    "        validation_split=0.2,\n",
    "        verbose=0, epochs=100)"
   ]
  },
  {
   "cell_type": "code",
   "execution_count": null,
   "id": "01676665-7ade-41ed-a43d-a447b55a6240",
   "metadata": {},
   "outputs": [],
   "source": [
    "plot_loss(history)\n"
   ]
  },
  {
   "cell_type": "code",
   "execution_count": null,
   "id": "17b7989c-7ad4-4cc4-9844-10ed74950bdb",
   "metadata": {},
   "outputs": [],
   "source": [
    "with tf.device('/cpu:0'):\n",
    "    x = tf.linspace(0.0, 250, 251)\n",
    "    y = dnn_horsepower_model.predict(x)"
   ]
  },
  {
   "cell_type": "code",
   "execution_count": null,
   "id": "e631ef37-e144-4418-a9ef-b37407cd039a",
   "metadata": {},
   "outputs": [],
   "source": [
    "plot_horsepower(x, y)"
   ]
  },
  {
   "cell_type": "code",
   "execution_count": null,
   "id": "ad1948ab-7bf2-4252-9c5c-9579ac748da5",
   "metadata": {},
   "outputs": [],
   "source": [
    "with tf.device('/cpu:0'):\n",
    "    test_results['dnn_horsepower_model'] = dnn_horsepower_model.evaluate(\n",
    "        test_features['Horsepower'], test_labels,\n",
    "        verbose=0)"
   ]
  },
  {
   "cell_type": "code",
   "execution_count": null,
   "id": "7c1ffdbf-6105-40b9-897a-4c6f8db4bad6",
   "metadata": {},
   "outputs": [],
   "source": [
    "with tf.device('/cpu:0'):\n",
    "    dnn_model = build_and_compile_model(normalizer)\n",
    "    dnn_model.summary()"
   ]
  },
  {
   "cell_type": "code",
   "execution_count": null,
   "id": "dcbde454-44fc-4344-a457-b06b9d92d858",
   "metadata": {},
   "outputs": [],
   "source": [
    "with tf.device('/cpu:0'):\n",
    "    history = dnn_model.fit(\n",
    "        train_features,\n",
    "        train_labels,\n",
    "        validation_split=0.2,\n",
    "        verbose=0, epochs=100)"
   ]
  },
  {
   "cell_type": "code",
   "execution_count": null,
   "id": "1f1f3041-df57-4875-afdb-9a409a8853fb",
   "metadata": {},
   "outputs": [],
   "source": [
    "plot_loss(history)"
   ]
  },
  {
   "cell_type": "code",
   "execution_count": null,
   "id": "59c5bb91-777d-4382-b20e-c6065e400c0e",
   "metadata": {},
   "outputs": [],
   "source": [
    "with tf.device('/cpu:0'):\n",
    "    test_results['dnn_model'] = dnn_model.evaluate(test_features, test_labels, verbose=0)\n"
   ]
  },
  {
   "cell_type": "code",
   "execution_count": null,
   "id": "178c4874-e27c-4805-a0a8-547cac6be3aa",
   "metadata": {},
   "outputs": [],
   "source": [
    "pd.DataFrame(test_results, index=['Mean absolute error [MPG]']).T"
   ]
  },
  {
   "cell_type": "code",
   "execution_count": null,
   "id": "89971491-eb86-4fc0-ac4a-4bd2a1ceaa18",
   "metadata": {},
   "outputs": [],
   "source": [
    "with tf.device('/cpu:0'):\n",
    "    test_predictions = dnn_model.predict(test_features).flatten()\n",
    "    \n",
    "    a = plt.axes(aspect='equal')\n",
    "    plt.scatter(test_labels, test_predictions)\n",
    "    plt.xlabel('True Values [MPG]')\n",
    "    plt.ylabel('Predictions [MPG]')\n",
    "    lims = [0, 50]\n",
    "    plt.xlim(lims)\n",
    "    plt.ylim(lims)\n",
    "    _ = plt.plot(lims, lims)"
   ]
  },
  {
   "cell_type": "code",
   "execution_count": null,
   "id": "2562a0d0-09c1-435f-b40e-62a6416bca75",
   "metadata": {},
   "outputs": [],
   "source": [
    "error = test_predictions - test_labels\n",
    "plt.hist(error, bins=25)\n",
    "plt.xlabel('Prediction Error [MPG]')\n",
    "_ = plt.ylabel('Count')"
   ]
  },
  {
   "cell_type": "code",
   "execution_count": null,
   "id": "a298a1ae-fc07-4483-94ed-0d590ecc5d0b",
   "metadata": {},
   "outputs": [],
   "source": []
  }
 ],
 "metadata": {
  "kernelspec": {
   "display_name": "Python 3 (ipykernel)",
   "language": "python",
   "name": "python3"
  },
  "language_info": {
   "codemirror_mode": {
    "name": "ipython",
    "version": 3
   },
   "file_extension": ".py",
   "mimetype": "text/x-python",
   "name": "python",
   "nbconvert_exporter": "python",
   "pygments_lexer": "ipython3",
   "version": "3.12.7"
  }
 },
 "nbformat": 4,
 "nbformat_minor": 5
}
